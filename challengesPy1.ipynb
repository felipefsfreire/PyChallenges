{
 "cells": [
  {
   "cell_type": "markdown",
   "metadata": {},
   "source": [
    "### 💡 Desafio: Geração e Análise de Vendas de uma Livraria\n",
    "\n",
    "Você precisa criar um DataFrame que simule as vendas de uma livraria fictícia. O conjunto de dados deve conter:\n",
    "* Informações sobre os livros vendidos\n",
    "* Preços\n",
    "* Datas das vendas\n",
    "* Clientes\n",
    "\n",
    "📌 Requisitos:\n",
    "1. Gerar um DataFrame com 1.500 registros.\n",
    "1. Criar listas de livros e autores fictícios.\n",
    "1. Gerar nomes de clientes aleatórios com a biblioteca Faker.\n",
    "1. Adicionar quantidade vendida, preço unitário e data da venda.\n",
    "1. Adicionar a data de nascimento dos clientes (para possíveis análises futuras).\n",
    "1. Salvar os dados em um arquivo CSV.\n",
    "\n",
    "🎯 Desafios Extras (opcional):\n",
    "* Criar um gráfico de barras mostrando a quantidade de vendas por livro 📊.\n",
    "* Filtrar os 10 livros mais vendidos e exibi-los.\n",
    "* Adicionar uma coluna com descontos aleatórios e calcular o preço final da compra."
   ]
  },
  {
   "cell_type": "markdown",
   "metadata": {},
   "source": [
    "Data Generation 🛠️🪄🏭"
   ]
  },
  {
   "cell_type": "code",
   "execution_count": null,
   "metadata": {},
   "outputs": [],
   "source": [
    "from faker import Faker\n",
    "import pandas as pd\n",
    "import numpy as np\n",
    "import random\n",
    "import matplotlib.pyplot as plt\n",
    "\n",
    "\n",
    "#Criando função para gerar dados do DataFrame\n",
    "def generateData (numRows = 1500, numCustomer = 1270):\n",
    "    fake = Faker('en_US')\n",
    "    #listas de 20 livros e editoras\n",
    "    bookList = [\"Competing on Analytics\", \"Data Science for Business\", \"The Data Warehouse Toolkit\",\n",
    "                \"Analytics at Work\", \"Naked Statistics\", \"Data-Driven\", \"Winning with Data\",\n",
    "                \"Big Data: A Revolution\",\n",
    "                \"Data Smart\", \"The Analytics Edge\", \"Storytelling with Data\", \n",
    "                \"The Art of Data Science\", \"Lean Analytics\", \"Data Strategy\",\n",
    "                \"Predictive Analytics\", \"Data Science for Executives\", \"Monetizing Data\",\n",
    "                \"The Data Detective\", \"Analytics in a Big Data World\", \"Data Science for Business Leaders\"]\n",
    "\n",
    "    publisherList = [\"Harvard Business Review Press\", \"O'Reilly Media\", \"Wiley\",\n",
    "                    \"Harvard Business Review Press\", \"W.W. Norton & Company\", \"O'Reilly Media\", \"Wiley\",\n",
    "                    \"Eamon Dolan/Houghton Mifflin Harcourt\", \"Wiley\", \"MIT Press\", \"Wiley\",\n",
    "                    \"O'Reilly Media\", \"O'Reilly Media\", \"Kogan Page\",\n",
    "                    \"Wiley\", \"Columbia Business School Publishing\", \"Harvard Business Review Press\",\n",
    "                    \"Penguin Books\", \"Wiley\", \"O'Reilly Media\"]\n",
    "\n",
    "    #lista de 20 autores usando Faker(fullname)\n",
    "    authorList = [fake.name() for _ in range(len(bookList))]\n",
    "    #print(authorList)\n",
    "\n",
    "    #lista de clientes\n",
    "    customerName = [fake.first_name() for _ in range(numCustomer)]\n",
    "\n",
    "    #gerando Ids únicos e aleatórios para os livros\n",
    "    randomIds = random.sample(range(1001, 2000), len(bookList))\n",
    "    #gerando biblioteca com livros e Ids\n",
    "    booksIds = {book: bookId for book, bookId in zip(bookList, randomIds)}\n",
    "\n",
    "    #print(booksIds)\n",
    "\n",
    "    #Gerando DataFrame\n",
    "    df = pd.DataFrame({'book': np.random.choice(bookList,numRows),\n",
    "                       'publisher': np.random.choice(publisherList,numRows),\n",
    "                       'author': np.random.choice(authorList,numRows),\n",
    "                       'unit_price': np.round(np.random.uniform(25, 250,numRows),2),\n",
    "                       'sales_quantity': np.random.randint(1,14,numRows),\n",
    "                       'sales_date': np.random.choice(pd.date_range(start = '2024-01-01', end = '2024-12-31')),\n",
    "                       'customer': np.random.choice(customerName,numRows),\n",
    "                       'birth_date': np.random.choice(pd.date_range(start = '1950-01-01', end = '2009-12-31'))\n",
    "                       })\n",
    "    \n",
    "    #Adicionando Ids aos livros\n",
    "    df[\"book_id\"] = df[\"book\"].map(booksIds)\n",
    "\n",
    "    #Desconto\n",
    "    df[\"%_discount\"] = np.round(np.random.uniform(0, 10,numRows),1)\n",
    "\n",
    "    #Preço total da venda com desconto\n",
    "    df[\"total_price\"] = np.round((df[\"sales_quantity\"]*df[\"unit_price\"])*(1-df[\"%_discount\"]/100),2)\n",
    "\n",
    "    return df\n",
    "\n",
    "df = generateData()\n",
    "#print(df)\n",
    "\n",
    "#criando arquivo csv\n",
    "df.to_csv('C:/Users/santo/Documents/dataBases/salesBooks.csv', index = False)\n",
    "print(\"\\nExemplo dos dados:\")\n",
    "print(df.head())\n",
    "print(\"\\nArquivo carregado com sucesso😊\")"
   ]
  },
  {
   "cell_type": "markdown",
   "metadata": {},
   "source": [
    "Data Analysis 🔎⚙️🧩"
   ]
  },
  {
   "cell_type": "code",
   "execution_count": null,
   "metadata": {},
   "outputs": [],
   "source": [
    "salesBook = df\n",
    "\n",
    "#Agrupando livros pela quantidade vendida\n",
    "totalQuant = salesBook.groupby('book')['sales_quantity'].sum()\n",
    "#Ordenando pela maior quantidade vendida\n",
    "sortBook = totalQuant.sort_values(ascending = False)\n",
    "#realizando um slice dos 10 primeiros livros com maior quantidade\n",
    "bookRank10 = sortBook[:10]\n",
    "print(bookRank10)"
   ]
  },
  {
   "cell_type": "markdown",
   "metadata": {},
   "source": [
    "Data Visualization 📊📈📉"
   ]
  },
  {
   "cell_type": "code",
   "execution_count": null,
   "metadata": {},
   "outputs": [],
   "source": [
    "# Cria o gráfico de barras\n",
    "plt.figure(figsize=(12, 6))  # Ajusta o tamanho da figura para melhor visualização\n",
    "bars = plt.bar(totalQuant.index, totalQuant.values, color='skyblue')  # Cria as barras e armazena os objetos das barras na variável 'bars'\n",
    "plt.xlabel('Book Title')  # Rótulo do eixo x\n",
    "plt.ylabel('Total Sales Quantity')  # Rótulo do eixo y\n",
    "plt.title('Total Sales Quantity by Book')  # Título do gráfico\n",
    "plt.xticks(rotation=90, ha='right')  # Rotaciona os rótulos do eixo x para melhor legibilidade\n",
    "plt.tight_layout()  # Ajusta o layout para evitar cortes nos rótulos\n",
    "\n",
    "for bar in bars: # Itera sobre cada barra no gráfico\n",
    "    yval = bar.get_height() # Obtém a altura da barra atual\n",
    "    plt.text(bar.get_x() + bar.get_width()/2, yval, str(int(yval)), ha='center', va='bottom') # Adiciona o rótulo de texto acima da barra\n",
    "    # bar.get_x() + bar.get_width()/2: Calcula a posição horizontal central da barra\n",
    "    # yval: Define a posição vertical do rótulo (acima da barra)\n",
    "    # str(int(yval)): Converte a altura da barra (yval) para um inteiro e, em seguida, para uma string (texto do rótulo)\n",
    "    # ha='center': Alinhamento horizontal do texto (centralizado)\n",
    "    # va='bottom': Alinhamento vertical do texto (na parte inferior, para ficar acima da barra)\n",
    "\n",
    "plt.show()  # Mostra o gráfico\n"
   ]
  }
 ],
 "metadata": {
  "kernelspec": {
   "display_name": "Python 3",
   "language": "python",
   "name": "python3"
  },
  "language_info": {
   "codemirror_mode": {
    "name": "ipython",
    "version": 3
   },
   "file_extension": ".py",
   "mimetype": "text/x-python",
   "name": "python",
   "nbconvert_exporter": "python",
   "pygments_lexer": "ipython3",
   "version": "3.12.0"
  }
 },
 "nbformat": 4,
 "nbformat_minor": 2
}
