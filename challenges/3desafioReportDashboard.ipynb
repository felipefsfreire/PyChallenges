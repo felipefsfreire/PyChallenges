{
 "cells": [
  {
   "cell_type": "markdown",
   "metadata": {},
   "source": [
    "### 💡Desafio: Relatórios Avançados e Dashboard de Vendas\n",
    "Agora que você já armazenou os dados no SQLite, o desafio será consultar e analisar os dados diretamente via SQL, além de criar um dashboard interativo para visualização.\n",
    "\n",
    "📌 Parte 1 - Consultas SQL Avançadas\n",
    "1. Clientes mais frequentes 🔁\n",
    "  a. Liste os 10 clientes que mais compraram (quantidade de pedidos realizados).\n",
    "2. Produtos mais rentáveis 💰\n",
    "  a. Encontre os 5 produtos que mais geraram receita total.\n",
    "3. Média de valor gasto por categoria 📊\n",
    "  a. Liste as categorias de produtos com a média de valor gasto por pedido.\n",
    "4. Comparação de faturamento 📅\n",
    "  a. Compare o faturamento entre o primeiro semestre (Jan-Jun) e o segundo semestre (Jul-Dez) de 2024.\n",
    "\n",
    "📌 Parte 2 - Dashboard Interativo com Streamlit\n",
    "Agora, crie um dashboard interativo usando Streamlit para visualizar os dados de forma dinâmica.\n",
    "\n",
    "1. 📌 Componentes do Dashboard:\n",
    "  a. Filtro por mês 📆 (para visualizar as vendas de um período específico).\n",
    "  b. Gráficos interativos 📊:\n",
    "    I. Gráfico de barras com os produtos mais vendidos.\n",
    "    II. Gráfico de linha mostrando o faturamento mensal.\n",
    "    III. Tabela interativa com os clientes VIPs."
   ]
  },
  {
   "cell_type": "markdown",
   "metadata": {},
   "source": [
    "Data Analysis 🔎⚙️🧩"
   ]
  },
  {
   "cell_type": "code",
   "execution_count": 30,
   "metadata": {},
   "outputs": [],
   "source": [
    "# Importando as bibliotecas\n",
    "import pandas as pd\n",
    "import sqlite3\n",
    "import streamlit as st\n",
    "\n",
    "conn = sqlite3.connect('salesEcommerce.db') \n",
    "cursor = conn.cursor()\n",
    "\n",
    "# Criando dicionário de queries\n",
    "dicQueries = {\n",
    "    # Query com 10 clientes que mais compraram\n",
    "    \"queryTopCustomers\": ''' \n",
    "        SELECT\n",
    "            customer,\n",
    "            SUM(sales_quantity) AS sum_quantity\n",
    "        FROM\n",
    "            sales\n",
    "        GROUP BY\n",
    "            customer\n",
    "        ORDER BY\n",
    "            SUM(sales_quantity) DESC\n",
    "        LIMIT 10\n",
    "''',\n",
    "# Query com 5 produtos mais rentáveis\n",
    "    \"queryTopProducts\": '''\n",
    "        SELECT\n",
    "            product,\n",
    "            SUM(total_price) AS total_revenue\n",
    "        FROM\n",
    "            sales\n",
    "        GROUP BY\n",
    "            product\n",
    "        ORDER BY\n",
    "            SUM(total_price) DESC\n",
    "        LIMIT 5\n",
    "''',\n",
    "# Média de valor gasto por categoria\n",
    "    \"queryAvgPriceCategory\": '''\n",
    "        SELECT\n",
    "            category,\n",
    "            ROUND(AVG(total_price),2) AS avg_price\n",
    "        FROM\n",
    "            sales\n",
    "        GROUP BY\n",
    "            category\n",
    "        ORDER BY\n",
    "            AVG(total_price) DESC\n",
    "''',\n",
    "# Comparação de faturamento primeiro semestre (Jan-Jun) e o segundo semestre (Jul-Dez) de 2024.\n",
    "    \"queryHalfYear\": '''\n",
    "        SELECT\n",
    "            CASE \n",
    "                WHEN STRFTIME('%m', sales_date) BETWEEN '01' AND '06' THEN 'first half-year'\n",
    "                WHEN STRFTIME('%m', sales_date) BETWEEN '07' AND '12' THEN 'second half-year'\n",
    "            END as half_year,\n",
    "            ROUND(SUM(total_price),2) AS total_revenue\n",
    "        FROM\n",
    "            sales\n",
    "        WHERE\n",
    "            STRFTIME('%Y', sales_date) = '2024'\n",
    "        GROUP BY\n",
    "            half_year\n",
    "        ORDER BY\n",
    "            half_year\n",
    "        '''\n",
    "}"
   ]
  },
  {
   "cell_type": "code",
   "execution_count": 31,
   "metadata": {},
   "outputs": [
    {
     "name": "stdout",
     "output_type": "stream",
     "text": [
      "Top 10 Clientes:\n",
      "      customer  sum_quantity\n",
      "0         José           166\n",
      "1      Daniela           145\n",
      "2      Mirella           142\n",
      "3        Josué           139\n",
      "4        Renan           136\n",
      "5         Igor           134\n",
      "6  Maria Luísa           133\n",
      "7       Allana           131\n",
      "8        Isaac           129\n",
      "9         Ayla           129\n",
      "\n",
      "Top 5 Produtos mais rentáveis:\n",
      "                product  total_revenue\n",
      "0     Mochila Esportiva       94488.69\n",
      "1               Mindset       94163.18\n",
      "2  Geladeira Frost Free       93767.95\n",
      "3    Cama para Cachorro       87807.27\n",
      "4          Câmera de Ré       87708.74\n",
      "\n",
      "Média de valor gasto por categoria:\n",
      "            category  avg_price\n",
      "0           Esportes    2388.76\n",
      "1             Roupas    2259.86\n",
      "2             Moveis    2240.68\n",
      "3             Livros    2220.29\n",
      "4              Games    2193.02\n",
      "5         Brinquedos    2148.88\n",
      "6         Automotivo    2128.71\n",
      "7        Ferramentas    2112.79\n",
      "8   Eletrodomesticos    2107.39\n",
      "9             Beleza    2078.70\n",
      "10      Computadores    2068.60\n",
      "11           Petshop    2049.36\n",
      "12        Perfumaria    2002.90\n",
      "13         Papelaria    2001.38\n",
      "14       Eletronicos    1905.16\n",
      "\n",
      "Comparação de faturamento Jan-Jun e Jul-Dez:\n",
      "          half_year  total_revenue\n",
      "0   first half-year     3206704.76\n",
      "1  second half-year     3184319.65\n"
     ]
    }
   ],
   "source": [
    "# Gerador de queries\n",
    "def runQuery(queryKey, params=()):\n",
    "    query = dicQueries[queryKey]\n",
    "    return pd.read_sql(query,conn, params=params)\n",
    "\n",
    "dfTopCustomers = runQuery(\"queryTopCustomers\")\n",
    "dfTopProducts = runQuery(\"queryTopProducts\")\n",
    "dfAvgPriceCategory = runQuery(\"queryAvgPriceCategory\")\n",
    "dfHalfYear = runQuery(\"queryHalfYear\")\n",
    "\n",
    "# Exibindo os resultados\n",
    "print(\"Top 10 Clientes:\")\n",
    "print(dfTopCustomers)\n",
    "\n",
    "print(\"\\nTop 5 Produtos mais rentáveis:\")\n",
    "print(dfTopProducts)\n",
    "\n",
    "print(\"\\nMédia de valor gasto por categoria:\")\n",
    "print(dfAvgPriceCategory)\n",
    "\n",
    "print(\"\\nComparação de faturamento Jan-Jun e Jul-Dez:\")\n",
    "print(dfHalfYear)"
   ]
  },
  {
   "cell_type": "markdown",
   "metadata": {},
   "source": [
    "Data Visualization 📊📈📉"
   ]
  },
  {
   "cell_type": "code",
   "execution_count": 32,
   "metadata": {},
   "outputs": [
    {
     "name": "stderr",
     "output_type": "stream",
     "text": [
      "2025-03-07 15:22:02.473 Thread 'MainThread': missing ScriptRunContext! This warning can be ignored when running in bare mode.\n",
      "2025-03-07 15:22:02.485 Thread 'MainThread': missing ScriptRunContext! This warning can be ignored when running in bare mode.\n"
     ]
    },
    {
     "data": {
      "text/plain": [
       "DeltaGenerator()"
      ]
     },
     "execution_count": 32,
     "metadata": {},
     "output_type": "execute_result"
    }
   ],
   "source": [
    "st.title(\"📊 Sales Dashboard - E-commerce\")"
   ]
  },
  {
   "cell_type": "code",
   "execution_count": 33,
   "metadata": {},
   "outputs": [
    {
     "name": "stderr",
     "output_type": "stream",
     "text": [
      "2025-03-07 15:22:02.689 Thread 'MainThread': missing ScriptRunContext! This warning can be ignored when running in bare mode.\n",
      "2025-03-07 15:22:02.697 Thread 'MainThread': missing ScriptRunContext! This warning can be ignored when running in bare mode.\n",
      "2025-03-07 15:22:02.701 Thread 'MainThread': missing ScriptRunContext! This warning can be ignored when running in bare mode.\n",
      "2025-03-07 15:22:02.709 Thread 'MainThread': missing ScriptRunContext! This warning can be ignored when running in bare mode.\n",
      "2025-03-07 15:22:02.717 Thread 'MainThread': missing ScriptRunContext! This warning can be ignored when running in bare mode.\n",
      "2025-03-07 15:22:02.722 Thread 'MainThread': missing ScriptRunContext! This warning can be ignored when running in bare mode.\n"
     ]
    }
   ],
   "source": [
    "# Filtro por mês(visualizar vendas de um período específico).\n",
    "monthFilter = st.selectbox(\"Selecione um mês:\", [\"Todos\"] + [f\"{m:02d}/2024\" for m in range(1, 13)])"
   ]
  },
  {
   "cell_type": "code",
   "execution_count": 34,
   "metadata": {},
   "outputs": [],
   "source": [
    "dicQueriesViz = {\n",
    "# Gráfico de barras com os produtos mais vendidos.\n",
    "\"queryBarTopProducts\": '''\n",
    "SELECT\n",
    "    product,\n",
    "    SUM(sales_quantity) AS total_quantity\n",
    "FROM\n",
    "    sales\n",
    "{whereClause}\n",
    "GROUP BY\n",
    "    product\n",
    "ORDER BY\n",
    "    SUM(sales_quantity) DESC\n",
    "LIMIT 10\n",
    "''',\n",
    "# Gráfico de linha mostrando o faturamento mensal.\n",
    "\"queryLineMonthRevenue\": '''\n",
    "SELECT\n",
    "    STRFTIME('%m', sales_date) as month,\n",
    "    SUM(total_price) AS total_revenue\n",
    "FROM\n",
    "    sales\n",
    "{whereClause}\n",
    "GROUP BY\n",
    "    STRFTIME('%m', sales_date)\n",
    "ORDER BY\n",
    "    STRFTIME('%m', sales_date)\n",
    "''',\n",
    "# Tabela interativa com os clientes VIPs.\n",
    "\"queryVipCustomers\": '''\n",
    "SELECT\n",
    "    customer,\n",
    "    SUM(sales_quantity) AS total_quantity,\n",
    "    SUM(total_price) AS total_amount\n",
    "FROM\n",
    "    sales\n",
    "{whereClause}\n",
    "GROUP BY\n",
    "    customer\n",
    "ORDER BY\n",
    "    SUM(total_price) DESC,\n",
    "    SUM(sales_quantity) DESC,\n",
    "    customer\n",
    "LIMIT 10\n",
    "'''\n",
    "}"
   ]
  },
  {
   "cell_type": "code",
   "execution_count": 35,
   "metadata": {},
   "outputs": [],
   "source": [
    "# Ajustando a cláusula WHERE\n",
    "whereClause = \"\"\n",
    "params = ()\n",
    "if monthFilter != \"Todos\":\n",
    "    selectMonth = monthFilter.split(\"/\")[0]\n",
    "    whereClause = \"WHERE STRFTIME('%m', sales_date) = ? AND STRFTIME('%Y', sales_date) = '2024'\"\n",
    "    params = (selectMonth,)"
   ]
  },
  {
   "cell_type": "code",
   "execution_count": 36,
   "metadata": {},
   "outputs": [],
   "source": [
    "# Função para executar queries de visualização\n",
    "def runQueryViz(queryKey):\n",
    "    query = dicQueriesViz[queryKey].format(whereClause=whereClause)\n",
    "    return pd.read_sql(query, conn, params=params)"
   ]
  },
  {
   "cell_type": "code",
   "execution_count": 37,
   "metadata": {},
   "outputs": [
    {
     "name": "stderr",
     "output_type": "stream",
     "text": [
      "2025-03-07 15:22:03.372 Thread 'MainThread': missing ScriptRunContext! This warning can be ignored when running in bare mode.\n",
      "2025-03-07 15:22:03.374 Thread 'MainThread': missing ScriptRunContext! This warning can be ignored when running in bare mode.\n",
      "2025-03-07 15:22:03.379 Thread 'MainThread': missing ScriptRunContext! This warning can be ignored when running in bare mode.\n",
      "2025-03-07 15:22:03.381 Thread 'MainThread': missing ScriptRunContext! This warning can be ignored when running in bare mode.\n",
      "2025-03-07 15:22:04.637 Thread 'MainThread': missing ScriptRunContext! This warning can be ignored when running in bare mode.\n",
      "2025-03-07 15:22:04.637 Thread 'MainThread': missing ScriptRunContext! This warning can be ignored when running in bare mode.\n"
     ]
    }
   ],
   "source": [
    "# Exibindo gráfico de barras com os produtos mais vendidos\n",
    "st.write(\"Gráfico de barras com os produtos mais vendidos.\")\n",
    "dfBarTopProducts = runQueryViz(\"queryBarTopProducts\")\n",
    "if not dfBarTopProducts.empty:\n",
    "    st.bar_chart(dfBarTopProducts.set_index('product'), x_label=\"Products\", y_label=\"Quantity\")\n",
    "else:\n",
    "    st.write(\"Nenhum dado disponível para o período selecionado.\")"
   ]
  },
  {
   "cell_type": "code",
   "execution_count": 38,
   "metadata": {},
   "outputs": [
    {
     "name": "stderr",
     "output_type": "stream",
     "text": [
      "2025-03-07 15:22:04.671 Thread 'MainThread': missing ScriptRunContext! This warning can be ignored when running in bare mode.\n",
      "2025-03-07 15:22:04.673 Thread 'MainThread': missing ScriptRunContext! This warning can be ignored when running in bare mode.\n",
      "2025-03-07 15:22:04.675 Thread 'MainThread': missing ScriptRunContext! This warning can be ignored when running in bare mode.\n",
      "2025-03-07 15:22:04.675 Thread 'MainThread': missing ScriptRunContext! This warning can be ignored when running in bare mode.\n",
      "2025-03-07 15:22:04.926 Thread 'MainThread': missing ScriptRunContext! This warning can be ignored when running in bare mode.\n",
      "2025-03-07 15:22:04.928 Thread 'MainThread': missing ScriptRunContext! This warning can be ignored when running in bare mode.\n"
     ]
    }
   ],
   "source": [
    "# Gráfico de linha mostrando o faturamento mensal.\n",
    "st.write(\"Gráfico de linha faturamento mensal.\")\n",
    "dfLineMonthRevenue = runQueryViz(\"queryLineMonthRevenue\")\n",
    "if not dfLineMonthRevenue.empty:\n",
    "    st.line_chart(dfLineMonthRevenue.set_index('month'), x_label=\"Months\", y_label=\"Revenue\")\n",
    "else:\n",
    "    st.write(\"Nenhum dado disponível para o período selecionado.\")"
   ]
  },
  {
   "cell_type": "code",
   "execution_count": 39,
   "metadata": {},
   "outputs": [
    {
     "name": "stderr",
     "output_type": "stream",
     "text": [
      "2025-03-07 15:22:05.051 Thread 'MainThread': missing ScriptRunContext! This warning can be ignored when running in bare mode.\n",
      "2025-03-07 15:22:05.053 Thread 'MainThread': missing ScriptRunContext! This warning can be ignored when running in bare mode.\n",
      "2025-03-07 15:22:05.055 Thread 'MainThread': missing ScriptRunContext! This warning can be ignored when running in bare mode.\n",
      "2025-03-07 15:22:05.057 Thread 'MainThread': missing ScriptRunContext! This warning can be ignored when running in bare mode.\n",
      "2025-03-07 15:22:05.086 Thread 'MainThread': missing ScriptRunContext! This warning can be ignored when running in bare mode.\n",
      "2025-03-07 15:22:05.291 Thread 'MainThread': missing ScriptRunContext! This warning can be ignored when running in bare mode.\n",
      "2025-03-07 15:22:05.295 Thread 'MainThread': missing ScriptRunContext! This warning can be ignored when running in bare mode.\n"
     ]
    }
   ],
   "source": [
    "# Tabela interativa com os clientes VIPs.\n",
    "st.write(\"Tabela interativa com os clientes VIPs\")\n",
    "dfVipCustomers = runQueryViz(\"queryVipCustomers\")\n",
    "if not dfVipCustomers.empty:\n",
    "    st.dataframe(dfVipCustomers.style.highlight_max(subset=['total_quantity', 'total_amount']), hide_index=True)\n",
    "else:\n",
    "    st.write(\"Nenhum dado disponível para o período selecionado.\")"
   ]
  },
  {
   "cell_type": "code",
   "execution_count": 40,
   "metadata": {},
   "outputs": [],
   "source": [
    "# Fechando a conexão com o banco de dados\n",
    "conn.close()"
   ]
  }
 ],
 "metadata": {
  "kernelspec": {
   "display_name": "Python 3",
   "language": "python",
   "name": "python3"
  },
  "language_info": {
   "codemirror_mode": {
    "name": "ipython",
    "version": 3
   },
   "file_extension": ".py",
   "mimetype": "text/x-python",
   "name": "python",
   "nbconvert_exporter": "python",
   "pygments_lexer": "ipython3",
   "version": "3.12.0"
  }
 },
 "nbformat": 4,
 "nbformat_minor": 2
}
