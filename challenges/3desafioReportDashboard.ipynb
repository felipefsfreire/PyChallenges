{
 "cells": [
  {
   "cell_type": "markdown",
   "metadata": {},
   "source": [
    "### 💡Desafio: Relatórios Avançados e Dashboard de Vendas\n",
    "Agora que você já armazenou os dados no SQLite, o desafio será consultar e analisar os dados diretamente via SQL, além de criar um dashboard interativo para visualização.\n",
    "\n",
    "📌 Parte 1 - Consultas SQL Avançadas\n",
    "1. Clientes mais frequentes 🔁\n",
    "  a. Liste os 10 clientes que mais compraram (quantidade de pedidos realizados).\n",
    "2. Produtos mais rentáveis 💰\n",
    "  a. Encontre os 5 produtos que mais geraram receita total.\n",
    "3. Média de valor gasto por categoria 📊\n",
    "  a. Liste as categorias de produtos com a média de valor gasto por pedido.\n",
    "4. Comparação de faturamento 📅\n",
    "  a. Compare o faturamento entre o primeiro semestre (Jan-Jun) e o segundo semestre (Jul-Dez) de 2024.\n",
    "\n",
    "📌 Parte 2 - Dashboard Interativo com Streamlit\n",
    "Agora, crie um dashboard interativo usando Streamlit para visualizar os dados de forma dinâmica.\n",
    "\n",
    "1. 📌 Componentes do Dashboard:\n",
    "  a. Filtro por mês 📆 (para visualizar as vendas de um período específico).\n",
    "  b. Gráficos interativos 📊:\n",
    "    I. Gráfico de barras com os produtos mais vendidos.\n",
    "    II. Gráfico de linha mostrando o faturamento mensal.\n",
    "    III. Tabela interativa com os clientes VIPs."
   ]
  },
  {
   "cell_type": "markdown",
   "metadata": {},
   "source": [
    "Data Analysis 🔎⚙️🧩"
   ]
  },
  {
   "cell_type": "code",
   "execution_count": 1,
   "metadata": {},
   "outputs": [],
   "source": [
    "import pandas as pd  # Importa a biblioteca Pandas para manipulação de dados\n",
    "import sqlite3  # Importa a biblioteca SQLite para interação com bancos de dados SQLite\n",
    "import streamlit as st  # Importa a biblioteca Streamlit para criação de aplicativos web\n",
    "\n",
    "conn = sqlite3.connect('salesEcommerce.db')  # Conecta ao banco de dados SQLite 'salesEcommerce.db'\n",
    "cursor = conn.cursor()  # Cria um cursor para executar comandos SQL\n",
    "\n",
    "# Define um dicionário com consultas SQL para diferentes análises\n",
    "dicQueries = {\n",
    "    \"queryTopCustomers\": '''\n",
    "        SELECT customer, SUM(sales_quantity) AS sum_quantity\n",
    "        FROM sales\n",
    "        GROUP BY customer\n",
    "        ORDER BY SUM(sales_quantity) DESC\n",
    "        LIMIT 10\n",
    "    ''',  # Consulta para obter os 10 clientes que mais compraram em quantidade\n",
    "    \"queryTopProducts\": '''\n",
    "        SELECT product, SUM(total_price) AS total_revenue\n",
    "        FROM sales\n",
    "        GROUP BY product\n",
    "        ORDER BY SUM(total_price) DESC\n",
    "        LIMIT 5\n",
    "    ''',  # Consulta para obter os 5 produtos que geraram mais receita\n",
    "    \"queryAvgPriceCategory\": '''\n",
    "        SELECT category, ROUND(AVG(total_price), 2) AS avg_price\n",
    "        FROM sales\n",
    "        GROUP BY category\n",
    "        ORDER BY AVG(total_price) DESC\n",
    "    ''',  # Consulta para obter o preço médio gasto por categoria\n",
    "    \"queryHalfYear\": '''\n",
    "        SELECT CASE \n",
    "            WHEN STRFTIME('%m', sales_date) BETWEEN '01' AND '06' THEN 'first half-year'\n",
    "            WHEN STRFTIME('%m', sales_date) BETWEEN '07' AND '12' THEN 'second half-year'\n",
    "        END AS half_year, ROUND(SUM(total_price), 2) AS total_revenue\n",
    "        FROM sales\n",
    "        WHERE STRFTIME('%Y', sales_date) = '2024'\n",
    "        GROUP BY half_year\n",
    "        ORDER BY half_year\n",
    "    '''  # Consulta para comparar o faturamento entre o primeiro e o segundo semestre de 2024\n",
    "}"
   ]
  },
  {
   "cell_type": "code",
   "execution_count": 2,
   "metadata": {},
   "outputs": [
    {
     "name": "stdout",
     "output_type": "stream",
     "text": [
      "Top 10 Clientes:\n",
      "      customer  sum_quantity\n",
      "0         José           166\n",
      "1      Daniela           145\n",
      "2      Mirella           142\n",
      "3        Josué           139\n",
      "4        Renan           136\n",
      "5         Igor           134\n",
      "6  Maria Luísa           133\n",
      "7       Allana           131\n",
      "8        Isaac           129\n",
      "9         Ayla           129\n",
      "\n",
      "Top 5 Produtos mais rentáveis:\n",
      "                product  total_revenue\n",
      "0     Mochila Esportiva       94488.69\n",
      "1               Mindset       94163.18\n",
      "2  Geladeira Frost Free       93767.95\n",
      "3    Cama para Cachorro       87807.27\n",
      "4          Câmera de Ré       87708.74\n",
      "\n",
      "Média de valor gasto por categoria:\n",
      "            category  avg_price\n",
      "0           Esportes    2388.76\n",
      "1             Roupas    2259.86\n",
      "2             Moveis    2240.68\n",
      "3             Livros    2220.29\n",
      "4              Games    2193.02\n",
      "5         Brinquedos    2148.88\n",
      "6         Automotivo    2128.71\n",
      "7        Ferramentas    2112.79\n",
      "8   Eletrodomesticos    2107.39\n",
      "9             Beleza    2078.70\n",
      "10      Computadores    2068.60\n",
      "11           Petshop    2049.36\n",
      "12        Perfumaria    2002.90\n",
      "13         Papelaria    2001.38\n",
      "14       Eletronicos    1905.16\n",
      "\n",
      "Comparação de faturamento Jan-Jun e Jul-Dez:\n",
      "          half_year  total_revenue\n",
      "0   first half-year     3206704.76\n",
      "1  second half-year     3184319.65\n"
     ]
    }
   ],
   "source": [
    "def runQuery(queryKey, params=()):\n",
    "    \"\"\"Executa uma consulta SQL e retorna o resultado como um DataFrame.\n",
    "\n",
    "    Args:\n",
    "        queryKey (str): Chave da consulta no dicionário `dicQueries`.\n",
    "        params (tuple, optional): Parâmetros para a consulta SQL. Padrão é ().\n",
    "\n",
    "    Returns:\n",
    "        pandas.DataFrame: DataFrame com o resultado da consulta.\n",
    "    \"\"\"\n",
    "    query = dicQueries[queryKey]  # Obtém a consulta SQL do dicionário\n",
    "    return pd.read_sql(query, conn, params=params)  # Executa a consulta e retorna o resultado como um DataFrame\n",
    "\n",
    "dfTopCustomers = runQuery(\"queryTopCustomers\")  # Executa a consulta para obter os top 10 clientes\n",
    "dfTopProducts = runQuery(\"queryTopProducts\")  # Executa a consulta para obter os top 5 produtos\n",
    "dfAvgPriceCategory = runQuery(\"queryAvgPriceCategory\")  # Executa a consulta para obter o preço médio por categoria\n",
    "dfHalfYear = runQuery(\"queryHalfYear\")  # Executa a consulta para comparar o faturamento por semestre\n",
    "\n",
    "print(\"Top 10 Clientes:\")\n",
    "print(dfTopCustomers)  # Imprime o DataFrame com os top 10 clientes\n",
    "\n",
    "print(\"\\nTop 5 Produtos mais rentáveis:\")\n",
    "print(dfTopProducts)  # Imprime o DataFrame com os top 5 produtos\n",
    "\n",
    "print(\"\\nMédia de valor gasto por categoria:\")\n",
    "print(dfAvgPriceCategory)  # Imprime o DataFrame com o preço médio por categoria\n",
    "\n",
    "print(\"\\nComparação de faturamento Jan-Jun e Jul-Dez:\")\n",
    "print(dfHalfYear)  # Imprime o DataFrame com a comparação de faturamento por semestre"
   ]
  },
  {
   "cell_type": "markdown",
   "metadata": {},
   "source": [
    "Data Visualization 📊📈📉"
   ]
  },
  {
   "cell_type": "code",
   "execution_count": 3,
   "metadata": {},
   "outputs": [
    {
     "name": "stderr",
     "output_type": "stream",
     "text": [
      "2025-03-08 10:06:25.158 WARNING streamlit.runtime.scriptrunner_utils.script_run_context: Thread 'MainThread': missing ScriptRunContext! This warning can be ignored when running in bare mode.\n",
      "2025-03-08 10:06:35.132 \n",
      "  \u001b[33m\u001b[1mWarning:\u001b[0m to view this Streamlit app on a browser, run it with the following\n",
      "  command:\n",
      "\n",
      "    streamlit run C:\\Users\\santo\\AppData\\Roaming\\Python\\Python312\\site-packages\\ipykernel_launcher.py [ARGUMENTS]\n",
      "2025-03-08 10:06:35.136 Thread 'MainThread': missing ScriptRunContext! This warning can be ignored when running in bare mode.\n"
     ]
    },
    {
     "data": {
      "text/plain": [
       "DeltaGenerator()"
      ]
     },
     "execution_count": 3,
     "metadata": {},
     "output_type": "execute_result"
    }
   ],
   "source": [
    "st.title(\" Sales Dashboard - E-commerce\")  # Define o título do aplicativo Streamlit"
   ]
  },
  {
   "cell_type": "code",
   "execution_count": 4,
   "metadata": {},
   "outputs": [
    {
     "name": "stderr",
     "output_type": "stream",
     "text": [
      "2025-03-08 10:06:35.570 Thread 'MainThread': missing ScriptRunContext! This warning can be ignored when running in bare mode.\n",
      "2025-03-08 10:06:35.573 Thread 'MainThread': missing ScriptRunContext! This warning can be ignored when running in bare mode.\n",
      "2025-03-08 10:06:35.575 Thread 'MainThread': missing ScriptRunContext! This warning can be ignored when running in bare mode.\n",
      "2025-03-08 10:06:35.638 Thread 'MainThread': missing ScriptRunContext! This warning can be ignored when running in bare mode.\n",
      "2025-03-08 10:06:35.641 Session state does not function when running a script without `streamlit run`\n",
      "2025-03-08 10:06:35.645 Thread 'MainThread': missing ScriptRunContext! This warning can be ignored when running in bare mode.\n",
      "2025-03-08 10:06:35.647 Thread 'MainThread': missing ScriptRunContext! This warning can be ignored when running in bare mode.\n"
     ]
    }
   ],
   "source": [
    "monthFilter = st.selectbox(\"Selecione um mês:\", [\"Todos\"] + [f\"{m:02d}/2024\" for m in range(1, 13)])  # Cria um selectbox para filtrar os dados por mês"
   ]
  },
  {
   "cell_type": "code",
   "execution_count": 5,
   "metadata": {},
   "outputs": [],
   "source": [
    "# Define um dicionário com consultas SQL para visualização dos dados\n",
    "dicQueriesViz = {\n",
    "    \"queryBarTopProducts\": '''\n",
    "        SELECT product, SUM(sales_quantity) AS total_quantity\n",
    "        FROM sales\n",
    "        {whereClause}\n",
    "        GROUP BY product\n",
    "        ORDER BY SUM(sales_quantity) DESC\n",
    "        LIMIT 10\n",
    "    ''',  # Consulta para obter os 10 produtos mais vendidos em quantidade\n",
    "    \"queryLineMonthRevenue\": '''\n",
    "        SELECT STRFTIME('%m', sales_date) AS month, SUM(total_price) AS total_revenue\n",
    "        FROM sales\n",
    "        {whereClause}\n",
    "        GROUP BY STRFTIME('%m', sales_date)\n",
    "        ORDER BY STRFTIME('%m', sales_date)\n",
    "    ''',  # Consulta para obter o faturamento mensal\n",
    "    \"queryVipCustomers\": '''\n",
    "        SELECT customer, SUM(sales_quantity) AS total_quantity, SUM(total_price) AS total_amount\n",
    "        FROM sales\n",
    "        {whereClause}\n",
    "        GROUP BY customer\n",
    "        ORDER BY SUM(total_price) DESC, SUM(sales_quantity) DESC, customer\n",
    "        LIMIT 10\n",
    "    '''  # Consulta para obter os 10 clientes VIPs (que mais compraram em valor e quantidade)\n",
    "}"
   ]
  },
  {
   "cell_type": "code",
   "execution_count": 6,
   "metadata": {},
   "outputs": [],
   "source": [
    "whereClause = \"\"  # Inicializa a cláusula WHERE da consulta SQL\n",
    "params = ()  # Inicializa os parâmetros da consulta SQL\n",
    "if monthFilter != \"Todos\":  # Verifica se o filtro de mês foi selecionado\n",
    "    selectMonth = monthFilter.split(\"/\")[0]  # Obtém o número do mês selecionado\n",
    "    whereClause = \"WHERE STRFTIME('%m', sales_date) = ? AND STRFTIME('%Y', sales_date) = '2024'\"  # Define a cláusula WHERE para filtrar os dados pelo mês selecionado\n",
    "    params = (selectMonth,)  # Define os parâmetros da consulta SQL"
   ]
  },
  {
   "cell_type": "code",
   "execution_count": 7,
   "metadata": {},
   "outputs": [],
   "source": [
    "def runQueryViz(queryKey):\n",
    "    \"\"\"Executa uma consulta SQL para visualização e retorna o resultado como um DataFrame.\n",
    "\n",
    "    Args:\n",
    "        queryKey (str): Chave da consulta no dicionário `dicQueriesViz`.\n",
    "\n",
    "    Returns:\n",
    "        pandas.DataFrame: DataFrame com o resultado da consulta.\n",
    "    \"\"\"\n",
    "    query = dicQueriesViz[queryKey].format(whereClause=whereClause)  # Obtém a consulta SQL do dicionário e formata com a cláusula WHERE\n",
    "    return pd.read_sql(query, conn, params=params)  # Executa a consulta e retorna o resultado como um DataFrame"
   ]
  },
  {
   "cell_type": "code",
   "execution_count": 8,
   "metadata": {},
   "outputs": [
    {
     "name": "stderr",
     "output_type": "stream",
     "text": [
      "2025-03-08 10:06:39.739 Thread 'MainThread': missing ScriptRunContext! This warning can be ignored when running in bare mode.\n",
      "2025-03-08 10:06:39.768 Thread 'MainThread': missing ScriptRunContext! This warning can be ignored when running in bare mode.\n",
      "2025-03-08 10:06:39.779 Thread 'MainThread': missing ScriptRunContext! This warning can be ignored when running in bare mode.\n",
      "2025-03-08 10:06:39.783 Thread 'MainThread': missing ScriptRunContext! This warning can be ignored when running in bare mode.\n",
      "2025-03-08 10:06:58.619 Thread 'MainThread': missing ScriptRunContext! This warning can be ignored when running in bare mode.\n",
      "2025-03-08 10:06:58.644 Thread 'MainThread': missing ScriptRunContext! This warning can be ignored when running in bare mode.\n"
     ]
    }
   ],
   "source": [
    "st.write(\"Gráfico de barras com os produtos mais vendidos.\")  # Exibe um texto no aplicativo\n",
    "dfBarTopProducts = runQueryViz(\"queryBarTopProducts\")  # Executa a consulta para obter os top 10 produtos mais vendidos\n",
    "if not dfBarTopProducts.empty:  # Verifica se o DataFrame não está vazio\n",
    "    st.bar_chart(dfBarTopProducts.set_index('product'), x_label=\"Products\", y_label=\"Quantity\")  # Cria um gráfico de barras com os top 10 produtos mais vendidos\n",
    "else:\n",
    "    st.write(\"Nenhum dado disponível para o período selecionado.\")  # Exibe uma mensagem caso não haja dados para o período selecionado"
   ]
  },
  {
   "cell_type": "code",
   "execution_count": 9,
   "metadata": {},
   "outputs": [
    {
     "name": "stderr",
     "output_type": "stream",
     "text": [
      "2025-03-08 10:06:58.716 Thread 'MainThread': missing ScriptRunContext! This warning can be ignored when running in bare mode.\n",
      "2025-03-08 10:06:58.720 Thread 'MainThread': missing ScriptRunContext! This warning can be ignored when running in bare mode.\n",
      "2025-03-08 10:06:58.720 Thread 'MainThread': missing ScriptRunContext! This warning can be ignored when running in bare mode.\n",
      "2025-03-08 10:06:58.725 Thread 'MainThread': missing ScriptRunContext! This warning can be ignored when running in bare mode.\n",
      "2025-03-08 10:06:59.912 Thread 'MainThread': missing ScriptRunContext! This warning can be ignored when running in bare mode.\n",
      "2025-03-08 10:06:59.914 Thread 'MainThread': missing ScriptRunContext! This warning can be ignored when running in bare mode.\n"
     ]
    }
   ],
   "source": [
    "st.write(\"Gráfico de linha faturamento mensal.\")  # Exibe um texto no aplicativo\n",
    "dfLineMonthRevenue = runQueryViz(\"queryLineMonthRevenue\")  # Executa a consulta para obter o faturamento mensal\n",
    "if not dfLineMonthRevenue.empty:  # Verifica se o DataFrame não está vazio\n",
    "    st.line_chart(dfLineMonthRevenue.set_index('month'), x_label=\"Months\", y_label=\"Revenue\")  # Cria um gráfico de linha com o faturamento mensal\n",
    "else:\n",
    "    st.write(\"Nenhum dado disponível para o período selecionado.\")  # Exibe uma mensagem caso não haja dados para o período selecionado"
   ]
  },
  {
   "cell_type": "code",
   "execution_count": 10,
   "metadata": {},
   "outputs": [
    {
     "name": "stderr",
     "output_type": "stream",
     "text": [
      "2025-03-08 10:07:01.684 Thread 'MainThread': missing ScriptRunContext! This warning can be ignored when running in bare mode.\n",
      "2025-03-08 10:07:01.713 Thread 'MainThread': missing ScriptRunContext! This warning can be ignored when running in bare mode.\n",
      "2025-03-08 10:07:01.715 Thread 'MainThread': missing ScriptRunContext! This warning can be ignored when running in bare mode.\n",
      "2025-03-08 10:07:01.717 Thread 'MainThread': missing ScriptRunContext! This warning can be ignored when running in bare mode.\n",
      "2025-03-08 10:07:27.983 Thread 'MainThread': missing ScriptRunContext! This warning can be ignored when running in bare mode.\n",
      "2025-03-08 10:07:28.384 Thread 'MainThread': missing ScriptRunContext! This warning can be ignored when running in bare mode.\n",
      "2025-03-08 10:07:28.390 Thread 'MainThread': missing ScriptRunContext! This warning can be ignored when running in bare mode.\n"
     ]
    }
   ],
   "source": [
    "st.write(\"Tabela interativa com os clientes VIPs\")  # Exibe um texto no aplicativo\n",
    "dfVipCustomers = runQueryViz(\"queryVipCustomers\")  # Executa a consulta para obter os clientes VIPs\n",
    "if not dfVipCustomers.empty:  # Verifica se o DataFrame não está vazio\n",
    "    st.dataframe(dfVipCustomers.style.highlight_max(subset=['total_quantity', 'total_amount']), hide_index=True)  # Cria uma tabela interativa com os clientes VIPs, destacando os maiores valores\n",
    "else:\n",
    "    st.write(\"Nenhum dado disponível para o período selecionado.\")  # Exibe uma mensagem caso não haja dados para o período selecionado\n"
   ]
  },
  {
   "cell_type": "code",
   "execution_count": 11,
   "metadata": {},
   "outputs": [],
   "source": [
    "conn.close()  # Fecha a conexão com o banco de dados"
   ]
  }
 ],
 "metadata": {
  "kernelspec": {
   "display_name": "Python 3",
   "language": "python",
   "name": "python3"
  },
  "language_info": {
   "codemirror_mode": {
    "name": "ipython",
    "version": 3
   },
   "file_extension": ".py",
   "mimetype": "text/x-python",
   "name": "python",
   "nbconvert_exporter": "python",
   "pygments_lexer": "ipython3",
   "version": "3.12.0"
  }
 },
 "nbformat": 4,
 "nbformat_minor": 2
}
