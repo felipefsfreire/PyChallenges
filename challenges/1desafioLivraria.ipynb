{
 "cells": [
  {
   "cell_type": "markdown",
   "metadata": {},
   "source": [
    "### 💡 Desafio: Geração e Análise de Vendas de uma Livraria\n",
    "\n",
    "Você precisa criar um DataFrame que simule as vendas de uma livraria fictícia. O conjunto de dados deve conter:\n",
    "* Informações sobre os livros vendidos\n",
    "* Preços\n",
    "* Datas das vendas\n",
    "* Clientes\n",
    "\n",
    "📌 Requisitos:\n",
    "1. Gerar um DataFrame com 1.500 registros.\n",
    "1. Criar listas de livros e autores fictícios.\n",
    "1. Gerar nomes de clientes aleatórios com a biblioteca Faker.\n",
    "1. Adicionar quantidade vendida, preço unitário e data da venda.\n",
    "1. Adicionar a data de nascimento dos clientes (para possíveis análises futuras).\n",
    "1. Salvar os dados em um arquivo CSV.\n",
    "\n",
    "🎯 Desafios Extras (opcional):\n",
    "* Criar um gráfico de barras mostrando a quantidade de vendas por livro 📊.\n",
    "* Filtrar os 10 livros mais vendidos e exibi-los.\n",
    "* Adicionar uma coluna com descontos aleatórios e calcular o preço final da compra."
   ]
  },
  {
   "cell_type": "markdown",
   "metadata": {},
   "source": [
    "Data Generation 🛠️🪄🏭"
   ]
  },
  {
   "cell_type": "code",
   "execution_count": null,
   "metadata": {},
   "outputs": [],
   "source": [
    "from faker import Faker  # Importa a biblioteca Faker para gerar dados falsos\n",
    "import pandas as pd  # Importa a biblioteca Pandas para manipulação de dados\n",
    "import numpy as np  # Importa a biblioteca NumPy para operações numéricas\n",
    "import random  # Importa a biblioteca Random para geração de números aleatórios\n",
    "import matplotlib.pyplot as plt  # Importa a biblioteca Matplotlib para criação de gráficos\n",
    "\n",
    "def generateData (numRows = 1500, numCustomer = 1270):\n",
    "    \"\"\"Gera um DataFrame com dados de vendas de livros.\n",
    "\n",
    "    Args:\n",
    "        numRows (int, optional): Número de linhas a serem geradas no DataFrame. Padrão é 1500.\n",
    "        numCustomer (int, optional): Número de clientes únicos a serem gerados. Padrão é 1270.\n",
    "\n",
    "    Returns:\n",
    "        pandas.DataFrame: Um DataFrame contendo dados de vendas de livros.\n",
    "    \"\"\"\n",
    "    fake = Faker('en_US')  # Inicializa o Faker para gerar dados em inglês (EUA)\n",
    "    bookList = [\"Competing on Analytics\", \"Data Science for Business\", \"The Data Warehouse Toolkit\",\n",
    "                \"Analytics at Work\", \"Naked Statistics\", \"Data-Driven\", \"Winning with Data\",\n",
    "                \"Big Data: A Revolution\",\n",
    "                \"Data Smart\", \"The Analytics Edge\", \"Storytelling with Data\", \n",
    "                \"The Art of Data Science\", \"Lean Analytics\", \"Data Strategy\",\n",
    "                \"Predictive Analytics\", \"Data Science for Executives\", \"Monetizing Data\",\n",
    "                \"The Data Detective\", \"Analytics in a Big Data World\", \"Data Science for Business Leaders\"]  # Lista de títulos de livros\n",
    "\n",
    "    publisherList = [\"Harvard Business Review Press\", \"O'Reilly Media\", \"Wiley\",\n",
    "                    \"Harvard Business Review Press\", \"W.W. Norton & Company\", \"O'Reilly Media\", \"Wiley\",\n",
    "                    \"Eamon Dolan/Houghton Mifflin Harcourt\", \"Wiley\", \"MIT Press\", \"Wiley\",\n",
    "                    \"O'Reilly Media\", \"O'Reilly Media\", \"Kogan Page\",\n",
    "                    \"Wiley\", \"Columbia Business School Publishing\", \"Harvard Business Review Press\",\n",
    "                    \"Penguin Books\", \"Wiley\", \"O'Reilly Media\"]  # Lista de editoras\n",
    "\n",
    "    authorList = [fake.name() for _ in range(len(bookList))]  # Cria uma lista de nomes de autores usando Faker\n",
    "    customerName = [fake.first_name() for _ in range(numCustomer)]  # Cria uma lista de nomes de clientes usando Faker\n",
    "\n",
    "    randomIds = random.sample(range(1001, 2000), len(bookList))  # Gera IDs aleatórios para os livros\n",
    "    booksIds = {book: bookId for book, bookId in zip(bookList, randomIds)}  # Cria um dicionário associando títulos de livros a IDs\n",
    "\n",
    "    df = pd.DataFrame({'book': np.random.choice(bookList,numRows),\n",
    "                        'publisher': np.random.choice(publisherList,numRows),\n",
    "                        'author': np.random.choice(authorList,numRows),\n",
    "                        'unit_price': np.round(np.random.uniform(25, 250,numRows),2),\n",
    "                        'sales_quantity': np.random.randint(1,14,numRows),\n",
    "                        'sales_date': np.random.choice(pd.date_range(start = '2024-01-01', end = '2024-12-31')),\n",
    "                        'customer': np.random.choice(customerName,numRows),\n",
    "                        'birth_date': np.random.choice(pd.date_range(start = '1950-01-01', end = '2009-12-31'))\n",
    "                        })  # Cria o DataFrame com dados aleatórios\n",
    "\n",
    "    df[\"book_id\"] = df[\"book\"].map(booksIds)  # Adiciona a coluna 'book_id' mapeando os títulos dos livros para seus IDs\n",
    "    df[\"sales_value\"] = df[\"sales_quantity\"]*df[\"unit_price\"]  # Calcula o valor total das vendas\n",
    "    df[\"%_discount\"] = np.round(np.random.uniform(0, 10,numRows),1)  # Gera descontos aleatórios\n",
    "    df[\"total_price\"] = np.round((df[\"sales_quantity\"]*df[\"unit_price\"])*(1-df[\"%_discount\"]/100),2)  # Calcula o preço total após o desconto\n",
    "\n",
    "    return df  # Retorna o DataFrame gerado\n",
    "\n",
    "df = generateData()  # Gera os dados chamando a função generateData()\n",
    "df.to_csv('C:/Users/santo/Documents/dataBases/salesBooks.csv', index = False)  # Salva o DataFrame em um arquivo CSV\n",
    "print(\"\\nExemplo dos dados:\")\n",
    "print(df.head())  # Imprime as primeiras linhas do DataFrame\n",
    "print(\"\\nArquivo carregado com sucesso\")"
   ]
  },
  {
   "cell_type": "markdown",
   "metadata": {},
   "source": [
    "Data Analysis 🔎⚙️🧩"
   ]
  },
  {
   "cell_type": "code",
   "execution_count": null,
   "metadata": {},
   "outputs": [],
   "source": [
    "salesBook = df  # Atribui o DataFrame 'df' à variável 'salesBook'\n",
    "totalQuant = salesBook.groupby('book')['sales_quantity'].sum()  # Agrupa os dados por livro e soma a quantidade vendida\n",
    "sortBook = totalQuant.sort_values(ascending = False)  # Ordena os livros por quantidade vendida em ordem decrescente\n",
    "bookRank10 = sortBook[:10]  # Seleciona os 10 livros mais vendidos\n",
    "print(\"\\nTOP 10 Livros mais vendidos\\n\")\n",
    "print(bookRank10)  # Imprime os 10 livros mais vendidos"
   ]
  },
  {
   "cell_type": "markdown",
   "metadata": {},
   "source": [
    "Data Visualization 📊📈📉"
   ]
  },
  {
   "cell_type": "code",
   "execution_count": null,
   "metadata": {},
   "outputs": [],
   "source": [
    "plt.figure(figsize=(12, 6))  # Define o tamanho da figura do gráfico\n",
    "bars = plt.bar(totalQuant.index, totalQuant.values, color='skyblue')  # Cria um gráfico de barras com os dados de vendas\n",
    "plt.xlabel('Book Title')  # Define o rótulo do eixo x\n",
    "plt.ylabel('Total Sales Quantity')  # Define o rótulo do eixo y\n",
    "plt.title('Total Sales Quantity by Book')  # Define o título do gráfico\n",
    "plt.xticks(rotation=90, ha='right')  # Rotaciona os rótulos do eixo x para melhor legibilidade\n",
    "plt.tight_layout()  # Ajusta o layout do gráfico para evitar sobreposição\n",
    "\n",
    "for bar in bars:  # Itera sobre cada barra no gráfico\n",
    "    yval = bar.get_height()  # Obtém a altura da barra\n",
    "    plt.text(bar.get_x() + bar.get_width()/2, yval, str(int(yval)), ha='center', va='bottom')  # Adiciona o valor da barra acima dela\n",
    "\n",
    "plt.show()  # Exibe o gráfico"
   ]
  }
 ],
 "metadata": {
  "kernelspec": {
   "display_name": "Python 3",
   "language": "python",
   "name": "python3"
  },
  "language_info": {
   "codemirror_mode": {
    "name": "ipython",
    "version": 3
   },
   "file_extension": ".py",
   "mimetype": "text/x-python",
   "name": "python",
   "nbconvert_exporter": "python",
   "pygments_lexer": "ipython3",
   "version": "3.12.0"
  }
 },
 "nbformat": 4,
 "nbformat_minor": 2
}
