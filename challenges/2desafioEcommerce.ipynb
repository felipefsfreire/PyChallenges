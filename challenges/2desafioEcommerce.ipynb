{
 "cells": [
  {
   "cell_type": "markdown",
   "metadata": {},
   "source": [
    "### 💡 Desafio: Análise de Vendas e Clientes VIP em um E-commerce\n",
    "Agora, você precisa gerar um banco de dados simulado de vendas de um e-commerce e realizar algumas análises para identificar os clientes VIP.\n",
    "\n",
    "📌 Requisitos:\n",
    "* Gerar um DataFrame com 3.000 registros de vendas.\n",
    "* Criar uma lista de 15 categorias de produtos e gerar automaticamente 100 produtos diferentes com preços variados.\n",
    "* Gerar clientes fictícios, incluindo nome, e-mail e cidade.\n",
    "* Criar uma coluna de valor total da compra, levando em conta a quantidade comprada e possíveis descontos.\n",
    "* Adicionar um identificador único para cada cliente e permitir que cada um possa fazer várias compras.\n",
    "\n",
    "🎯 Análises Requeridas:\n",
    "* Identificar os 10 produtos mais vendidos (por quantidade).\n",
    "* Encontrar os 5 clientes que mais gastaram no total.\n",
    "* Criar um gráfico de faturamento mensal 📊.\n",
    "* Criar um sistema para marcar clientes VIP, onde um cliente é VIP se gastar acima de R$ 5.000 no total.\n",
    "\n",
    "🔥 Desafios Extras (opcional)\n",
    "* Criar um gráfico de barras com as 10 cidades que mais compraram.\n",
    "* Salvar os dados em um banco de dados SQLite e permitir consultas SQL.\n",
    "* Criar um relatório final mostrando:\n",
    "  * Número total de vendas\n",
    "  * Faturamento total\n",
    "  * Média de valor gasto por cliente\n"
   ]
  },
  {
   "cell_type": "markdown",
   "metadata": {},
   "source": [
    "Data Generation 🛠️🪄🏭"
   ]
  },
  {
   "cell_type": "code",
   "execution_count": null,
   "metadata": {
    "vscode": {
     "languageId": "plaintext"
    }
   },
   "outputs": [],
   "source": []
  },
  {
   "cell_type": "markdown",
   "metadata": {},
   "source": [
    "Data Analysis 🔎⚙️🧩"
   ]
  },
  {
   "cell_type": "code",
   "execution_count": null,
   "metadata": {
    "vscode": {
     "languageId": "plaintext"
    }
   },
   "outputs": [],
   "source": []
  },
  {
   "cell_type": "markdown",
   "metadata": {},
   "source": [
    "Data Visualization 📊📈📉"
   ]
  },
  {
   "cell_type": "code",
   "execution_count": null,
   "metadata": {
    "vscode": {
     "languageId": "plaintext"
    }
   },
   "outputs": [],
   "source": []
  }
 ],
 "metadata": {
  "language_info": {
   "name": "python"
  }
 },
 "nbformat": 4,
 "nbformat_minor": 2
}
